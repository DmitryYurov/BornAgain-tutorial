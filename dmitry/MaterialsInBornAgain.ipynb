{
 "cells": [
  {
   "cell_type": "markdown",
   "metadata": {
    "slideshow": {
     "slide_type": "slide"
    }
   },
   "source": [
    "# Introduction to Reflectivity: elementary theory\n",
    "\n",
    "## Dmitry Yurov"
   ]
  },
  {
   "cell_type": "markdown",
   "metadata": {
    "slideshow": {
     "slide_type": "slide"
    }
   },
   "source": [
    "# Stationary wave equation \n",
    "\n",
    "Schroedinger equation\n",
    "\n",
    "$$\n",
    "\n",
    "$$ \\left[ \\Delta + k^2 - u(\\vec{r}) \\right] \\psi(\\vec{r}) =  0$$\n",
    "\n",
    "$$ k = \\frac{2 \\pi}{\\lambda} $$\n",
    "\n",
    "## Known solution for $u(\\vec{r}) = 0$\n",
    "\n",
    "$$ \\psi(\\vec{r}) = A \\exp{i \\vec{k} \\cdot \\vec{r}} $$"
   ]
  },
  {
   "cell_type": "code",
   "execution_count": null,
   "metadata": {},
   "outputs": [],
   "source": []
  }
 ],
 "metadata": {
  "celltoolbar": "Slideshow",
  "kernelspec": {
   "display_name": "Python 3",
   "language": "python",
   "name": "python3"
  },
  "language_info": {
   "codemirror_mode": {
    "name": "ipython",
    "version": 3
   },
   "file_extension": ".py",
   "mimetype": "text/x-python",
   "name": "python",
   "nbconvert_exporter": "python",
   "pygments_lexer": "ipython3",
   "version": "3.5.2"
  }
 },
 "nbformat": 4,
 "nbformat_minor": 2
}
